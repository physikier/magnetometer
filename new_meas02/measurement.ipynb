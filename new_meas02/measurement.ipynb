{
 "cells": [
  {
   "cell_type": "code",
   "execution_count": 2,
   "metadata": {
    "collapsed": false
   },
   "outputs": [],
   "source": [
    "import numpy as np\n",
    "import ctypes\n",
    "import time\n",
    "import os\n",
    "import sys\n",
    "import copy\n",
    "import matplotlib.pyplot as plt\n",
    "import logging\n",
    "\n",
    "_import_path = os.path.abspath(os.path.join(os.getcwd(), '..'))\n",
    "if _import_path not in sys.path:\n",
    "    sys.path.insert(0, _import_path)\n",
    "\n",
    "# hardware\n",
    "import hardware.afg3000 as tek\n",
    "import pyvisa\n",
    "import hardware.hameg as ha\n",
    "#import hardware.sr_lockin as lo\n",
    "\n",
    "from nidaq_device_modTR import NidaqDevice\n",
    "from configuration_parser import load_config, ConfigIntegrityException\n",
    "from measurement_worker import MeasurementWorker"
   ]
  },
  {
   "cell_type": "code",
   "execution_count": 3,
   "metadata": {
    "collapsed": false
   },
   "outputs": [],
   "source": [
    "log_formatter = logging.Formatter(\"%(asctime)s [%(levelname)s]  %(message)s\")\n",
    "logger = logging.getLogger('measurement_logger')\n",
    "\n",
    "handlers_registered = False\n",
    "if not handlers_registered:\n",
    "    handlers_registered = True\n",
    "    \n",
    "    file_handler = logging.FileHandler(os.path.join(os.getcwd(), 'log.log'))\n",
    "    file_handler.setFormatter(log_formatter)\n",
    "    logger.addHandler(file_handler)\n",
    "\n",
    "    console_handler = logging.StreamHandler()\n",
    "    console_handler.setFormatter(log_formatter)\n",
    "    logger.addHandler(console_handler)\n",
    "\n",
    "logger.setLevel(logging.INFO)\n",
    "logger.propagate = False"
   ]
  },
  {
   "cell_type": "code",
   "execution_count": 14,
   "metadata": {
    "collapsed": false,
    "scrolled": true
   },
   "outputs": [
    {
     "name": "stderr",
     "output_type": "stream",
     "text": [
      "2016-01-27 11:21:11,397 [INFO]  Read config file: N:\\meassrc\\magnetometer\\new_meas02\\configs\\config-06.yaml\n",
      "2016-01-27 11:21:12,092 [INFO]  B1: set freq to 2000.0. dev: tektronix, ch: 2\n",
      "2016-01-27 11:21:14,223 [INFO]  B1: set freq to 2500.0. dev: tektronix, ch: 2\n",
      "2016-01-27 11:21:16,819 [INFO]  B1: set freq to 3000.0. dev: tektronix, ch: 2\n",
      "2016-01-27 11:21:18,947 [INFO]  B1: set freq to 3500.0. dev: tektronix, ch: 2\n",
      "2016-01-27 11:21:21,078 [INFO]  B1: set freq to 4000.0. dev: tektronix, ch: 2\n",
      "2016-01-27 11:21:23,289 [INFO]  B1: set freq to 4500.0. dev: tektronix, ch: 2\n",
      "2016-01-27 11:21:25,420 [INFO]  B1: set freq to 5000.0. dev: tektronix, ch: 2\n",
      "2016-01-27 11:21:27,542 [INFO]  B1: set freq to 5500.0. dev: tektronix, ch: 2\n"
     ]
    }
   ],
   "source": [
    "configure_folder_path = os.path.join(os.getcwd(), 'configs')\n",
    "configure_filenames = os.listdir(configure_folder_path)\n",
    "\n",
    "for config_filename in configure_filenames:\n",
    "    config_filepath = os.path.join(configure_folder_path, config_filename)\n",
    "    try:\n",
    "        logger.info('Read config file: {}'.format(config_filepath))\n",
    "        cfg = load_config(config_filepath)\n",
    "    except ConfigIntegrityException:\n",
    "        # TODO: add logfile\n",
    "        exc_info = sys.exc_info()\n",
    "        raise exc_info[0], exc_info[1], exc_info[2]\n",
    "    \n",
    "    try:\n",
    "        hameg = ha.HMP2030(device=\"hameg01\", voltage_max=20., current_max=0.07)\n",
    "        tektronix = tek.AFG3252(\"TCPIP0::129.69.46.235::inst0::INSTR\")\n",
    "        #lock_in = lo.SR830(\"GPIB0::08::INSTR\")\n",
    "\n",
    "        use_lock_in = cfg['measurement']['lock_in_params']['active']\n",
    "        nidaq_config = cfg['devices']['nidaq']\n",
    "        nidaq = NidaqDevice()\n",
    "        nidaq.load_config(nidaq_config, use_lock_in=use_lock_in)\n",
    "        mw = MeasurementWorker(nidaq=nidaq, tektronix=tektronix, hameg=hameg, logger=logger)\n",
    "        mw.set_config(cfg) # load measurement config\n",
    "        mw.set_base_path(os.path.join('n:', os.sep, 'data', 'dani', 'magnetometer'))\n",
    "\n",
    "        mw.measure(save=True, config_path=config_filepath)\n",
    "\n",
    "    except Exception, e:\n",
    "    \n",
    "        # TODO: add logfile\n",
    "        exc_info = sys.exc_info()\n",
    "        raise exc_info[0], exc_info[1], exc_info[2]\n",
    "    finally:\n",
    "        hameg.close()\n"
   ]
  },
  {
   "cell_type": "code",
   "execution_count": 11,
   "metadata": {
    "collapsed": false
   },
   "outputs": [
    {
     "name": "stdout",
     "output_type": "stream",
     "text": [
      "a1 level=0\n",
      "b1 level=1\n",
      "c1 level=2\n",
      "c2 level=2\n",
      "c3 level=2\n",
      "b2 level=1\n",
      "c1 level=2\n",
      "c2 level=2\n",
      "c3 level=2\n",
      "b3 level=1\n",
      "c1 level=2\n",
      "c2 level=2\n",
      "c3 level=2\n",
      "a2 level=0\n",
      "b1 level=1\n",
      "c1 level=2\n",
      "c2 level=2\n",
      "c3 level=2\n",
      "b2 level=1\n",
      "c1 level=2\n",
      "c2 level=2\n",
      "c3 level=2\n",
      "b3 level=1\n",
      "c1 level=2\n",
      "c2 level=2\n",
      "c3 level=2\n",
      "a3 level=0\n",
      "b1 level=1\n",
      "c1 level=2\n",
      "c2 level=2\n",
      "c3 level=2\n",
      "b2 level=1\n",
      "c1 level=2\n",
      "c2 level=2\n",
      "c3 level=2\n",
      "b3 level=1\n",
      "c1 level=2\n",
      "c2 level=2\n",
      "c3 level=2\n"
     ]
    }
   ],
   "source": [
    "import copy\n",
    "a = ['a1', 'a2', 'a3']\n",
    "b = ['b1', 'b2', 'b3']\n",
    "c = ['c1', 'c2', 'c3']\n",
    "x = [a, b, c]\n",
    "\n",
    "def rec(x, level=0):\n",
    "    if len(x) == 0:\n",
    "        return\n",
    "    xnew = copy.copy(x)\n",
    "    r = xnew.pop()\n",
    "    for i in r:\n",
    "        print str(i) + ' level=' + str(level)\n",
    "        rec(xnew, level=level+1)\n",
    "        \n",
    "x.reverse()\n",
    "rec(x)"
   ]
  },
  {
   "cell_type": "code",
   "execution_count": null,
   "metadata": {
    "collapsed": true
   },
   "outputs": [],
   "source": []
  }
 ],
 "metadata": {
  "kernelspec": {
   "display_name": "Python 2",
   "language": "python",
   "name": "python2"
  },
  "language_info": {
   "codemirror_mode": {
    "name": "ipython",
    "version": 2
   },
   "file_extension": ".py",
   "mimetype": "text/x-python",
   "name": "python",
   "nbconvert_exporter": "python",
   "pygments_lexer": "ipython2",
   "version": "2.7.9"
  }
 },
 "nbformat": 4,
 "nbformat_minor": 0
}
