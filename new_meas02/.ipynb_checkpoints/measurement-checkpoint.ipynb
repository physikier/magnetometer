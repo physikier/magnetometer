{
 "cells": [
  {
   "cell_type": "code",
   "execution_count": 1,
   "metadata": {
    "collapsed": false
   },
   "outputs": [
    {
     "ename": "ValueError",
     "evalue": "cannot set toolkit to wx because it has already been set to qt4",
     "output_type": "error",
     "traceback": [
      "\u001b[1;31m---------------------------------------------------------------------------\u001b[0m",
      "\u001b[1;31mValueError\u001b[0m                                Traceback (most recent call last)",
      "\u001b[1;32m<ipython-input-1-d5ff5036e21b>\u001b[0m in \u001b[0;36m<module>\u001b[1;34m()\u001b[0m\n\u001b[0;32m     15\u001b[0m \u001b[1;32mimport\u001b[0m \u001b[0mhardware\u001b[0m\u001b[1;33m.\u001b[0m\u001b[0mafg3000\u001b[0m \u001b[1;32mas\u001b[0m \u001b[0mtek\u001b[0m\u001b[1;33m\u001b[0m\u001b[0m\n\u001b[0;32m     16\u001b[0m \u001b[1;32mimport\u001b[0m \u001b[0mpyvisa\u001b[0m\u001b[1;33m\u001b[0m\u001b[0m\n\u001b[1;32m---> 17\u001b[1;33m \u001b[1;32mimport\u001b[0m \u001b[0mhardware\u001b[0m\u001b[1;33m.\u001b[0m\u001b[0mhameg\u001b[0m \u001b[1;32mas\u001b[0m \u001b[0mha\u001b[0m\u001b[1;33m\u001b[0m\u001b[0m\n\u001b[0m\u001b[0;32m     18\u001b[0m \u001b[1;32mimport\u001b[0m \u001b[0mhardware\u001b[0m\u001b[1;33m.\u001b[0m\u001b[0msr_lockin\u001b[0m \u001b[1;32mas\u001b[0m \u001b[0mlo\u001b[0m\u001b[1;33m\u001b[0m\u001b[0m\n\u001b[0;32m     19\u001b[0m \u001b[1;33m\u001b[0m\u001b[0m\n",
      "\u001b[1;32mN:\\meassrc\\magnetometer\\hardware\\hameg.py\u001b[0m in \u001b[0;36m<module>\u001b[1;34m()\u001b[0m\n\u001b[0;32m    436\u001b[0m \u001b[1;33m\u001b[0m\u001b[0m\n\u001b[0;32m    437\u001b[0m \u001b[1;32mfrom\u001b[0m \u001b[0mtraits\u001b[0m\u001b[1;33m.\u001b[0m\u001b[0mapi\u001b[0m \u001b[1;32mimport\u001b[0m \u001b[0mHasTraits\u001b[0m\u001b[1;33m,\u001b[0m \u001b[0mRange\u001b[0m\u001b[1;33m,\u001b[0m \u001b[0mEnum\u001b[0m\u001b[1;33m,\u001b[0m \u001b[0mFloat\u001b[0m\u001b[1;33m,\u001b[0m \u001b[0mon_trait_change\u001b[0m\u001b[1;33m\u001b[0m\u001b[0m\n\u001b[1;32m--> 438\u001b[1;33m \u001b[1;32mfrom\u001b[0m \u001b[0mtraitsui\u001b[0m\u001b[1;33m.\u001b[0m\u001b[0mapi\u001b[0m \u001b[1;32mimport\u001b[0m \u001b[0mView\u001b[0m\u001b[1;33m,\u001b[0m \u001b[0mItem\u001b[0m\u001b[1;33m,\u001b[0m \u001b[0mCheckListEditor\u001b[0m\u001b[1;33m\u001b[0m\u001b[0m\n\u001b[0m\u001b[0;32m    439\u001b[0m \u001b[1;33m\u001b[0m\u001b[0m\n\u001b[0;32m    440\u001b[0m \u001b[1;32mclass\u001b[0m \u001b[0mHMP2030Traits\u001b[0m\u001b[1;33m(\u001b[0m \u001b[0mHMP2030\u001b[0m\u001b[1;33m,\u001b[0m \u001b[0mHasTraits\u001b[0m \u001b[1;33m)\u001b[0m\u001b[1;33m:\u001b[0m\u001b[1;33m\u001b[0m\u001b[0m\n",
      "\u001b[1;32mC:\\Users\\johnny\\AppData\\Local\\Enthought\\Canopy\\User\\lib\\site-packages\\traitsui\\api.py\u001b[0m in \u001b[0;36m<module>\u001b[1;34m()\u001b[0m\n\u001b[0;32m     34\u001b[0m \u001b[1;33m\u001b[0m\u001b[0m\n\u001b[0;32m     35\u001b[0m \u001b[1;32mtry\u001b[0m\u001b[1;33m:\u001b[0m\u001b[1;33m\u001b[0m\u001b[0m\n\u001b[1;32m---> 36\u001b[1;33m     \u001b[1;32mfrom\u001b[0m \u001b[1;33m.\u001b[0m\u001b[0meditors\u001b[0m\u001b[1;33m.\u001b[0m\u001b[0mapi\u001b[0m \u001b[1;32mimport\u001b[0m \u001b[0mArrayEditor\u001b[0m\u001b[1;33m\u001b[0m\u001b[0m\n\u001b[0m\u001b[0;32m     37\u001b[0m \u001b[1;32mexcept\u001b[0m \u001b[0mImportError\u001b[0m\u001b[1;33m:\u001b[0m\u001b[1;33m\u001b[0m\u001b[0m\n\u001b[0;32m     38\u001b[0m     \u001b[1;31m# ArrayEditor depends on numpy, so ignore if numpy is not present.\u001b[0m\u001b[1;33m\u001b[0m\u001b[1;33m\u001b[0m\u001b[0m\n",
      "\u001b[1;32mC:\\Users\\johnny\\AppData\\Local\\Enthought\\Canopy\\User\\lib\\site-packages\\traitsui\\editors\\__init__.py\u001b[0m in \u001b[0;36m<module>\u001b[1;34m()\u001b[0m\n\u001b[0;32m     21\u001b[0m \u001b[1;33m\u001b[0m\u001b[0m\n\u001b[0;32m     22\u001b[0m \u001b[1;32mtry\u001b[0m\u001b[1;33m:\u001b[0m\u001b[1;33m\u001b[0m\u001b[0m\n\u001b[1;32m---> 23\u001b[1;33m     \u001b[1;32mfrom\u001b[0m \u001b[1;33m.\u001b[0m\u001b[0mapi\u001b[0m \u001b[1;32mimport\u001b[0m \u001b[0mArrayEditor\u001b[0m\u001b[1;33m\u001b[0m\u001b[0m\n\u001b[0m\u001b[0;32m     24\u001b[0m \u001b[1;32mexcept\u001b[0m \u001b[0mImportError\u001b[0m\u001b[1;33m:\u001b[0m\u001b[1;33m\u001b[0m\u001b[0m\n\u001b[0;32m     25\u001b[0m     \u001b[1;32mpass\u001b[0m\u001b[1;33m\u001b[0m\u001b[0m\n",
      "\u001b[1;32mC:\\Users\\johnny\\AppData\\Local\\Enthought\\Canopy\\User\\lib\\site-packages\\traitsui\\editors\\api.py\u001b[0m in \u001b[0;36m<module>\u001b[1;34m()\u001b[0m\n\u001b[0;32m     22\u001b[0m \u001b[1;32mfrom\u001b[0m \u001b[1;33m.\u001b[0m\u001b[0mbutton_editor\u001b[0m \u001b[1;32mimport\u001b[0m \u001b[0mButtonEditor\u001b[0m\u001b[1;33m\u001b[0m\u001b[0m\n\u001b[0;32m     23\u001b[0m \u001b[1;32mfrom\u001b[0m \u001b[1;33m.\u001b[0m\u001b[0mcheck_list_editor\u001b[0m \u001b[1;32mimport\u001b[0m \u001b[0mCheckListEditor\u001b[0m\u001b[1;33m\u001b[0m\u001b[0m\n\u001b[1;32m---> 24\u001b[1;33m \u001b[1;32mfrom\u001b[0m \u001b[1;33m.\u001b[0m\u001b[0mcode_editor\u001b[0m \u001b[1;32mimport\u001b[0m \u001b[0mCodeEditor\u001b[0m\u001b[1;33m\u001b[0m\u001b[0m\n\u001b[0m\u001b[0;32m     25\u001b[0m \u001b[1;32mfrom\u001b[0m \u001b[1;33m.\u001b[0m\u001b[0mcolor_editor\u001b[0m \u001b[1;32mimport\u001b[0m \u001b[0mColorEditor\u001b[0m\u001b[1;33m\u001b[0m\u001b[0m\n\u001b[0;32m     26\u001b[0m \u001b[1;32mfrom\u001b[0m \u001b[1;33m.\u001b[0m\u001b[0mcompound_editor\u001b[0m \u001b[1;32mimport\u001b[0m \u001b[0mCompoundEditor\u001b[0m\u001b[1;33m\u001b[0m\u001b[0m\n",
      "\u001b[1;32mC:\\Users\\johnny\\AppData\\Local\\Enthought\\Canopy\\User\\lib\\site-packages\\traitsui\\editors\\code_editor.py\u001b[0m in \u001b[0;36m<module>\u001b[1;34m()\u001b[0m\n\u001b[0;32m     34\u001b[0m \u001b[1;31m#-------------------------------------------------------------------------------\u001b[0m\u001b[1;33m\u001b[0m\u001b[1;33m\u001b[0m\u001b[0m\n\u001b[0;32m     35\u001b[0m \u001b[1;33m\u001b[0m\u001b[0m\n\u001b[1;32m---> 36\u001b[1;33m \u001b[1;32mclass\u001b[0m \u001b[0mToolkitEditorFactory\u001b[0m \u001b[1;33m(\u001b[0m \u001b[0mEditorFactory\u001b[0m \u001b[1;33m)\u001b[0m\u001b[1;33m:\u001b[0m\u001b[1;33m\u001b[0m\u001b[0m\n\u001b[0m\u001b[0;32m     37\u001b[0m     \"\"\" Editor factory for code editors.\n\u001b[0;32m     38\u001b[0m     \"\"\"\n",
      "\u001b[1;32mC:\\Users\\johnny\\AppData\\Local\\Enthought\\Canopy\\User\\lib\\site-packages\\traitsui\\editors\\code_editor.py\u001b[0m in \u001b[0;36mToolkitEditorFactory\u001b[1;34m()\u001b[0m\n\u001b[0;32m     46\u001b[0m \u001b[1;33m\u001b[0m\u001b[0m\n\u001b[0;32m     47\u001b[0m     \u001b[1;31m# Background color for marking lines\u001b[0m\u001b[1;33m\u001b[0m\u001b[1;33m\u001b[0m\u001b[0m\n\u001b[1;32m---> 48\u001b[1;33m     \u001b[0mmark_color\u001b[0m \u001b[1;33m=\u001b[0m \u001b[0mColor\u001b[0m\u001b[1;33m(\u001b[0m \u001b[1;36m0xECE9D8\u001b[0m \u001b[1;33m)\u001b[0m\u001b[1;33m\u001b[0m\u001b[0m\n\u001b[0m\u001b[0;32m     49\u001b[0m \u001b[1;33m\u001b[0m\u001b[0m\n\u001b[0;32m     50\u001b[0m     \u001b[1;31m# Object trait containing the currently selected line (optional)\u001b[0m\u001b[1;33m\u001b[0m\u001b[1;33m\u001b[0m\u001b[0m\n",
      "\u001b[1;32mC:\\Users\\johnny\\AppData\\Local\\Enthought\\Canopy\\User\\lib\\site-packages\\traits\\traits.pyc\u001b[0m in \u001b[0;36m__call__\u001b[1;34m(self, *args, **metadata)\u001b[0m\n\u001b[0;32m    487\u001b[0m \u001b[1;33m\u001b[0m\u001b[0m\n\u001b[0;32m    488\u001b[0m     \u001b[1;32mdef\u001b[0m \u001b[0m__call__\u001b[0m \u001b[1;33m(\u001b[0m \u001b[0mself\u001b[0m\u001b[1;33m,\u001b[0m \u001b[1;33m*\u001b[0m\u001b[0margs\u001b[0m\u001b[1;33m,\u001b[0m \u001b[1;33m**\u001b[0m\u001b[0mmetadata\u001b[0m \u001b[1;33m)\u001b[0m\u001b[1;33m:\u001b[0m\u001b[1;33m\u001b[0m\u001b[0m\n\u001b[1;32m--> 489\u001b[1;33m         \u001b[1;32mreturn\u001b[0m \u001b[0mself\u001b[0m\u001b[1;33m.\u001b[0m\u001b[0mmaker_function\u001b[0m\u001b[1;33m(\u001b[0m \u001b[1;33m*\u001b[0m\u001b[0margs\u001b[0m\u001b[1;33m,\u001b[0m \u001b[1;33m**\u001b[0m\u001b[0mmetadata\u001b[0m \u001b[1;33m)\u001b[0m\u001b[1;33m\u001b[0m\u001b[0m\n\u001b[0m\u001b[0;32m    490\u001b[0m \u001b[1;33m\u001b[0m\u001b[0m\n\u001b[0;32m    491\u001b[0m \u001b[1;32mclass\u001b[0m \u001b[0mTraitImportError\u001b[0m \u001b[1;33m(\u001b[0m \u001b[0mTraitFactory\u001b[0m \u001b[1;33m)\u001b[0m\u001b[1;33m:\u001b[0m\u001b[1;33m\u001b[0m\u001b[0m\n",
      "\u001b[1;32mC:\\Users\\johnny\\AppData\\Local\\Enthought\\Canopy\\User\\lib\\site-packages\\traits\\traits.pyc\u001b[0m in \u001b[0;36mColor\u001b[1;34m(*args, **metadata)\u001b[0m\n\u001b[0;32m   1201\u001b[0m     \u001b[1;32mfrom\u001b[0m \u001b[0mtraitsui\u001b[0m\u001b[1;33m.\u001b[0m\u001b[0mtoolkit_traits\u001b[0m \u001b[1;32mimport\u001b[0m \u001b[0mColorTrait\u001b[0m\u001b[1;33m\u001b[0m\u001b[0m\n\u001b[0;32m   1202\u001b[0m \u001b[1;33m\u001b[0m\u001b[0m\n\u001b[1;32m-> 1203\u001b[1;33m     \u001b[1;32mreturn\u001b[0m \u001b[0mColorTrait\u001b[0m\u001b[1;33m(\u001b[0m \u001b[1;33m*\u001b[0m\u001b[0margs\u001b[0m\u001b[1;33m,\u001b[0m \u001b[1;33m**\u001b[0m\u001b[0mmetadata\u001b[0m \u001b[1;33m)\u001b[0m\u001b[1;33m\u001b[0m\u001b[0m\n\u001b[0m\u001b[0;32m   1204\u001b[0m \u001b[1;33m\u001b[0m\u001b[0m\n\u001b[0;32m   1205\u001b[0m \u001b[0mColor\u001b[0m \u001b[1;33m=\u001b[0m \u001b[0mTraitFactory\u001b[0m\u001b[1;33m(\u001b[0m \u001b[0mColor\u001b[0m \u001b[1;33m)\u001b[0m\u001b[1;33m\u001b[0m\u001b[0m\n",
      "\u001b[1;32mC:\\Users\\johnny\\AppData\\Local\\Enthought\\Canopy\\User\\lib\\site-packages\\traitsui\\toolkit_traits.py\u001b[0m in \u001b[0;36mColorTrait\u001b[1;34m(*args, **traits)\u001b[0m\n\u001b[0;32m      5\u001b[0m \u001b[1;33m\u001b[0m\u001b[0m\n\u001b[0;32m      6\u001b[0m \u001b[1;32mdef\u001b[0m \u001b[0mColorTrait\u001b[0m \u001b[1;33m(\u001b[0m \u001b[1;33m*\u001b[0m\u001b[0margs\u001b[0m\u001b[1;33m,\u001b[0m \u001b[1;33m**\u001b[0m\u001b[0mtraits\u001b[0m \u001b[1;33m)\u001b[0m\u001b[1;33m:\u001b[0m\u001b[1;33m\u001b[0m\u001b[0m\n\u001b[1;32m----> 7\u001b[1;33m     \u001b[1;32mreturn\u001b[0m \u001b[0mtoolkit\u001b[0m\u001b[1;33m(\u001b[0m\u001b[1;33m)\u001b[0m\u001b[1;33m.\u001b[0m\u001b[0mcolor_trait\u001b[0m\u001b[1;33m(\u001b[0m \u001b[1;33m*\u001b[0m\u001b[0margs\u001b[0m\u001b[1;33m,\u001b[0m \u001b[1;33m**\u001b[0m\u001b[0mtraits\u001b[0m \u001b[1;33m)\u001b[0m\u001b[1;33m\u001b[0m\u001b[0m\n\u001b[0m\u001b[0;32m      8\u001b[0m \u001b[1;33m\u001b[0m\u001b[0m\n\u001b[0;32m      9\u001b[0m \u001b[1;32mdef\u001b[0m \u001b[0mRGBColorTrait\u001b[0m \u001b[1;33m(\u001b[0m \u001b[1;33m*\u001b[0m\u001b[0margs\u001b[0m\u001b[1;33m,\u001b[0m \u001b[1;33m**\u001b[0m\u001b[0mtraits\u001b[0m \u001b[1;33m)\u001b[0m\u001b[1;33m:\u001b[0m\u001b[1;33m\u001b[0m\u001b[0m\n",
      "\u001b[1;32mC:\\Users\\johnny\\AppData\\Local\\Enthought\\Canopy\\User\\lib\\site-packages\\traitsui\\toolkit.py\u001b[0m in \u001b[0;36mtoolkit\u001b[1;34m(*toolkits)\u001b[0m\n\u001b[0;32m    123\u001b[0m \u001b[1;33m\u001b[0m\u001b[0m\n\u001b[0;32m    124\u001b[0m                 \u001b[1;31m# In case we have just decided on a toolkit, tell everybody else:\u001b[0m\u001b[1;33m\u001b[0m\u001b[1;33m\u001b[0m\u001b[0m\n\u001b[1;32m--> 125\u001b[1;33m                 \u001b[0mETSConfig\u001b[0m\u001b[1;33m.\u001b[0m\u001b[0mtoolkit\u001b[0m \u001b[1;33m=\u001b[0m \u001b[0mtoolkit_name\u001b[0m\u001b[1;33m\u001b[0m\u001b[0m\n\u001b[0m\u001b[0;32m    126\u001b[0m \u001b[1;33m\u001b[0m\u001b[0m\n\u001b[0;32m    127\u001b[0m                 \u001b[1;32mreturn\u001b[0m \u001b[0m_toolkit\u001b[0m\u001b[1;33m\u001b[0m\u001b[0m\n",
      "\u001b[1;32mC:\\Users\\johnny\\AppData\\Local\\Enthought\\Canopy\\User\\lib\\site-packages\\traits\\etsconfig\\etsconfig.pyc\u001b[0m in \u001b[0;36m_set_toolkit\u001b[1;34m(self, toolkit)\u001b[0m\n\u001b[0;32m    211\u001b[0m         \u001b[1;32mif\u001b[0m \u001b[0mself\u001b[0m\u001b[1;33m.\u001b[0m\u001b[0m_toolkit\u001b[0m \u001b[1;32mand\u001b[0m \u001b[0mself\u001b[0m\u001b[1;33m.\u001b[0m\u001b[0m_toolkit\u001b[0m \u001b[1;33m!=\u001b[0m \u001b[0mtoolkit\u001b[0m\u001b[1;33m:\u001b[0m\u001b[1;33m\u001b[0m\u001b[0m\n\u001b[0;32m    212\u001b[0m             \u001b[1;32mraise\u001b[0m \u001b[0mValueError\u001b[0m\u001b[1;33m,\u001b[0m \u001b[1;34m\"cannot set toolkit to %s because it has \"\u001b[0m\u001b[0;31m\\\u001b[0m\u001b[1;33m\u001b[0m\u001b[0m\n\u001b[1;32m--> 213\u001b[1;33m                             \u001b[1;34m\"already been set to %s\"\u001b[0m \u001b[1;33m%\u001b[0m \u001b[1;33m(\u001b[0m\u001b[0mtoolkit\u001b[0m\u001b[1;33m,\u001b[0m \u001b[0mself\u001b[0m\u001b[1;33m.\u001b[0m\u001b[0m_toolkit\u001b[0m\u001b[1;33m)\u001b[0m\u001b[1;33m\u001b[0m\u001b[0m\n\u001b[0m\u001b[0;32m    214\u001b[0m \u001b[1;33m\u001b[0m\u001b[0m\n\u001b[0;32m    215\u001b[0m         \u001b[0mself\u001b[0m\u001b[1;33m.\u001b[0m\u001b[0m_toolkit\u001b[0m \u001b[1;33m=\u001b[0m \u001b[0mtoolkit\u001b[0m\u001b[1;33m\u001b[0m\u001b[0m\n",
      "\u001b[1;31mValueError\u001b[0m: cannot set toolkit to wx because it has already been set to qt4"
     ]
    }
   ],
   "source": [
    "import numpy as np\n",
    "import ctypes\n",
    "import time\n",
    "import os\n",
    "import sys\n",
    "import copy\n",
    "import matplotlib.pyplot as plt\n",
    "import logging\n",
    "\n",
    "_import_path = os.path.abspath(os.path.join(os.getcwd(), '..'))\n",
    "if _import_path not in sys.path:\n",
    "    sys.path.insert(0, _import_path)\n",
    "\n",
    "# hardware\n",
    "import hardware.afg3000 as tek\n",
    "import pyvisa\n",
    "import hardware.hameg as ha\n",
    "#import hardware.sr_lockin as lo\n",
    "\n",
    "from nidaq_device_modTR import NidaqDevice\n",
    "from configuration_parser import load_config, ConfigIntegrityException\n",
    "from measurement_worker import MeasurementWorker"
   ]
  },
  {
   "cell_type": "code",
   "execution_count": 2,
   "metadata": {
    "collapsed": false
   },
   "outputs": [],
   "source": [
    "log_formatter = logging.Formatter(\"%(asctime)s [%(levelname)s]  %(message)s\")\n",
    "logger = logging.getLogger('measurement_logger')\n",
    "\n",
    "handlers_registered = False\n",
    "if not handlers_registered:\n",
    "    handlers_registered = True\n",
    "    \n",
    "    file_handler = logging.FileHandler(os.path.join(os.getcwd(), 'log.log'))\n",
    "    file_handler.setFormatter(log_formatter)\n",
    "    logger.addHandler(file_handler)\n",
    "\n",
    "    console_handler = logging.StreamHandler()\n",
    "    console_handler.setFormatter(log_formatter)\n",
    "    logger.addHandler(console_handler)\n",
    "\n",
    "logger.setLevel(logging.INFO)\n",
    "logger.propagate = False"
   ]
  },
  {
   "cell_type": "code",
   "execution_count": 15,
   "metadata": {
    "collapsed": false,
    "scrolled": true
   },
   "outputs": [
    {
     "name": "stderr",
     "output_type": "stream",
     "text": [
      "2016-01-19 16:36:05,403 [INFO]  Read config file: N:\\meassrc\\magnetometer\\new_meas02\\configs\\config-57.yaml\n",
      "2016-01-19 16:36:06,117 [INFO]  R3: set offset to 0.0. dev: hameg, ch: 1\n",
      "2016-01-19 16:36:08,256 [INFO]  R3: set offset to 0.05. dev: hameg, ch: 1\n",
      "2016-01-19 16:36:10,351 [INFO]  R3: set offset to 0.1. dev: hameg, ch: 1\n",
      "2016-01-19 16:36:12,453 [INFO]  R3: set offset to 0.15. dev: hameg, ch: 1\n",
      "2016-01-19 16:36:14,543 [INFO]  R3: set offset to 0.2. dev: hameg, ch: 1\n",
      "2016-01-19 16:36:16,628 [INFO]  R3: set offset to 0.25. dev: hameg, ch: 1\n",
      "2016-01-19 16:36:18,713 [INFO]  R3: set offset to 0.3. dev: hameg, ch: 1\n",
      "2016-01-19 16:36:20,798 [INFO]  R3: set offset to 0.35. dev: hameg, ch: 1\n",
      "2016-01-19 16:36:22,887 [INFO]  R3: set offset to 0.4. dev: hameg, ch: 1\n",
      "2016-01-19 16:36:24,973 [INFO]  R3: set offset to 0.45. dev: hameg, ch: 1\n",
      "2016-01-19 16:36:27,069 [INFO]  R3: set offset to 0.5. dev: hameg, ch: 1\n",
      "2016-01-19 16:36:29,168 [INFO]  R3: set offset to 0.55. dev: hameg, ch: 1\n",
      "2016-01-19 16:36:31,266 [INFO]  R3: set offset to 0.6. dev: hameg, ch: 1\n",
      "2016-01-19 16:36:33,368 [INFO]  R3: set offset to 0.65. dev: hameg, ch: 1\n",
      "2016-01-19 16:36:35,469 [INFO]  R3: set offset to 0.7. dev: hameg, ch: 1\n",
      "2016-01-19 16:36:37,558 [INFO]  R3: set offset to 0.75. dev: hameg, ch: 1\n"
     ]
    }
   ],
   "source": [
    "configure_folder_path = os.path.join(os.getcwd(), 'configs')\n",
    "configure_filenames = os.listdir(configure_folder_path)\n",
    "\n",
    "for config_filename in configure_filenames:\n",
    "    config_filepath = os.path.join(configure_folder_path, config_filename)\n",
    "    try:\n",
    "        logger.info('Read config file: {}'.format(config_filepath))\n",
    "        cfg = load_config(config_filepath)\n",
    "    except ConfigIntegrityException:\n",
    "        # TODO: add logfile\n",
    "        exc_info = sys.exc_info()\n",
    "        raise exc_info[0], exc_info[1], exc_info[2]\n",
    "    \n",
    "    try:\n",
    "        hameg = ha.HMP2030(device=\"hameg01\", voltage_max=20., current_max=0.07)\n",
    "        tektronix = tek.AFG3252(\"TCPIP0::129.69.46.235::inst0::INSTR\")\n",
    "        lock_in = lo.SR830(\"GPIB0::08::INSTR\")\n",
    "\n",
    "        use_lock_in = cfg['measurement']['lock_in_params']['active']\n",
    "        nidaq_config = cfg['devices']['nidaq']\n",
    "        nidaq = NidaqDevice()\n",
    "        nidaq.load_config(nidaq_config, use_lock_in=use_lock_in)\n",
    "        mw = MeasurementWorker(nidaq=nidaq, tektronix=tektronix, hameg=hameg, logger=logger)\n",
    "        mw.set_config(cfg) # load measurement config\n",
    "        mw.set_base_path(os.path.join('n:', os.sep, 'data', 'emily', 'magnetometer_test'))\n",
    "\n",
    "        mw.measure(save=True, config_path=config_filepath)\n",
    "\n",
    "    except Exception, e:\n",
    "    \n",
    "        # TODO: add logfile\n",
    "        exc_info = sys.exc_info()\n",
    "        raise exc_info[0], exc_info[1], exc_info[2]\n",
    "    finally:\n",
    "        hameg.close()\n"
   ]
  },
  {
   "cell_type": "code",
   "execution_count": 14,
   "metadata": {
    "collapsed": false
   },
   "outputs": [
    {
     "name": "stdout",
     "output_type": "stream",
     "text": [
      "a1 level=0\n",
      "b1 level=1\n",
      "c1 level=2\n",
      "c2 level=2\n",
      "c3 level=2\n",
      "b2 level=1\n",
      "c1 level=2\n",
      "c2 level=2\n",
      "c3 level=2\n",
      "b3 level=1\n",
      "c1 level=2\n",
      "c2 level=2\n",
      "c3 level=2\n",
      "a2 level=0\n",
      "b1 level=1\n",
      "c1 level=2\n",
      "c2 level=2\n",
      "c3 level=2\n",
      "b2 level=1\n",
      "c1 level=2\n",
      "c2 level=2\n",
      "c3 level=2\n",
      "b3 level=1\n",
      "c1 level=2\n",
      "c2 level=2\n",
      "c3 level=2\n",
      "a3 level=0\n",
      "b1 level=1\n",
      "c1 level=2\n",
      "c2 level=2\n",
      "c3 level=2\n",
      "b2 level=1\n",
      "c1 level=2\n",
      "c2 level=2\n",
      "c3 level=2\n",
      "b3 level=1\n",
      "c1 level=2\n",
      "c2 level=2\n",
      "c3 level=2\n"
     ]
    }
   ],
   "source": [
    "import copy\n",
    "a = ['a1', 'a2', 'a3']\n",
    "b = ['b1', 'b2', 'b3']\n",
    "c = ['c1', 'c2', 'c3']\n",
    "x = [a, b, c]\n",
    "\n",
    "def rec(x, level=0):\n",
    "    if len(x) == 0:\n",
    "        return\n",
    "    xnew = copy.copy(x)\n",
    "    r = xnew.pop()\n",
    "    for i in r:\n",
    "        print str(i) + ' level=' + str(level)\n",
    "        rec(xnew, level=level+1)\n",
    "        \n",
    "x.reverse()\n",
    "rec(x)"
   ]
  },
  {
   "cell_type": "code",
   "execution_count": null,
   "metadata": {
    "collapsed": true
   },
   "outputs": [],
   "source": []
  }
 ],
 "metadata": {
  "kernelspec": {
   "display_name": "Python 2",
   "language": "python",
   "name": "python2"
  },
  "language_info": {
   "codemirror_mode": {
    "name": "ipython",
    "version": 2
   },
   "file_extension": ".py",
   "mimetype": "text/x-python",
   "name": "python",
   "nbconvert_exporter": "python",
   "pygments_lexer": "ipython2",
   "version": "2.7.9"
  }
 },
 "nbformat": 4,
 "nbformat_minor": 0
}
